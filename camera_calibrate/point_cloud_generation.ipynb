{
 "cells": [
  {
   "cell_type": "code",
   "execution_count": 1,
   "metadata": {},
   "outputs": [
    {
     "name": "stdout",
     "output_type": "stream",
     "text": [
      "Jupyter environment detected. Enabling Open3D WebVisualizer.\n",
      "[Open3D INFO] WebRTC GUI backend enabled.\n",
      "[Open3D INFO] WebRTCWindowSystem: HTTP handshake server disabled.\n"
     ]
    },
    {
     "ename": "NameError",
     "evalue": "name '__file__' is not defined",
     "output_type": "error",
     "traceback": [
      "\u001b[1;31m---------------------------------------------------------------------------\u001b[0m",
      "\u001b[1;31mNameError\u001b[0m                                 Traceback (most recent call last)",
      "Cell \u001b[1;32mIn[1], line 6\u001b[0m\n\u001b[0;32m      3\u001b[0m \u001b[38;5;28;01mimport\u001b[39;00m\u001b[38;5;250m \u001b[39m\u001b[38;5;21;01mcv2\u001b[39;00m\n\u001b[0;32m      4\u001b[0m \u001b[38;5;28;01mimport\u001b[39;00m\u001b[38;5;250m \u001b[39m\u001b[38;5;21;01mos\u001b[39;00m\n\u001b[1;32m----> 6\u001b[0m current_dir \u001b[38;5;241m=\u001b[39m os\u001b[38;5;241m.\u001b[39mpath\u001b[38;5;241m.\u001b[39mdirname(\u001b[38;5;18;43m__file__\u001b[39;49m)\n\u001b[0;32m      8\u001b[0m \u001b[38;5;28;01mdef\u001b[39;00m\u001b[38;5;250m \u001b[39m\u001b[38;5;21mload_camera_intrinsics\u001b[39m(stereomap_file):\n\u001b[0;32m      9\u001b[0m     cv_file \u001b[38;5;241m=\u001b[39m cv2\u001b[38;5;241m.\u001b[39mFileStorage(stereomap_file, cv2\u001b[38;5;241m.\u001b[39mFILE_STORAGE_READ)\n",
      "\u001b[1;31mNameError\u001b[0m: name '__file__' is not defined"
     ]
    }
   ],
   "source": [
    "import numpy as np\n",
    "import open3d as o3d\n",
    "import cv2\n",
    "import os\n",
    "\n",
    "current_dir = os.path.dirname(__file__)\n",
    "\n",
    "def load_camera_intrinsics(stereomap_file):\n",
    "    cv_file = cv2.FileStorage(stereomap_file, cv2.FILE_STORAGE_READ)\n",
    "    \n",
    "    # Get camera matrix from stereoMap.xml\n",
    "    camera_matrix = cv_file.getNode('cameraMatrixL').mat()\n",
    "    \n",
    "    # Extract intrinsic parameters\n",
    "    fx = camera_matrix[0, 0]\n",
    "    fy = camera_matrix[1, 1]\n",
    "    cx = camera_matrix[0, 2]\n",
    "    cy = camera_matrix[1, 2]\n",
    "    \n",
    "    cv_file.release()\n",
    "    return fx, fy, cx, cy\n",
    "\n",
    "def create_point_cloud(color_file, depth_file, stereomap_file):\n",
    "    # Load camera intrinsics\n",
    "    fx, fy, cx, cy = load_camera_intrinsics(stereomap_file)\n",
    "    \n",
    "    # Create Open3D intrinsics\n",
    "    intrinsic = o3d.camera.PinholeCameraIntrinsic(\n",
    "        width=640, height=480,\n",
    "        fx=fx, fy=fy,\n",
    "        cx=cx, cy=cy\n",
    "    )\n",
    "    \n",
    "    # Load color image\n",
    "    color_raw = o3d.io.read_image(color_file)\n",
    "    \n",
    "    # Load depth data and convert to Open3D format\n",
    "    depth_raw = np.load(depth_file)  # Load the raw depth data\n",
    "    \n",
    "    # Convert depth to uint16 format required by Open3D\n",
    "    depth_scale = 1000.0  # Scale factor to convert to millimeters\n",
    "    depth_o3d = o3d.geometry.Image(\n",
    "        (depth_raw * depth_scale).astype(np.uint16)\n",
    "    )\n",
    "    \n",
    "    # Create RGBD image\n",
    "    rgbd_image = o3d.geometry.RGBDImage.create_from_color_and_depth(\n",
    "        color_raw, depth_o3d,\n",
    "        depth_scale=depth_scale,\n",
    "        depth_trunc=5.0,  # Maximum depth in meters\n",
    "        convert_rgb_to_intensity=False\n",
    "    )\n",
    "    \n",
    "    # Create point cloud\n",
    "    pcd = o3d.geometry.PointCloud.create_from_rgbd_image(\n",
    "        rgbd_image,\n",
    "        intrinsic\n",
    "    )\n",
    "    \n",
    "    # Flip the orientation to match standard coordinate system\n",
    "    pcd.transform([[1, 0, 0, 0], [0, -1, 0, 0], [0, 0, -1, 0], [0, 0, 0, 1]])\n",
    "    \n",
    "    return pcd\n",
    "\n",
    "def main():\n",
    "    current_dir = os.path.dirname(__file__)\n",
    "    stereomap_file = os.path.join(current_dir, \"stereoMap.xml\")\n",
    "    \n",
    "    # Specify your saved depth and color files\n",
    "    timestamp = \"216850002124600\"  # Replace with actual timestamp\n",
    "    color_file = f\"color_{timestamp}.jpg\"\n",
    "    depth_file = f\"depth_raw_{timestamp}.npy\"\n",
    "    \n",
    "    # Create point cloud\n",
    "    pcd = create_point_cloud(color_file, depth_file, stereomap_file)\n",
    "    \n",
    "    # Visualize the point cloud\n",
    "    o3d.visualization.draw_geometries([pcd])\n",
    "    \n",
    "    # Optionally save the point cloud\n",
    "    o3d.io.write_point_cloud(f\"pointcloud_{timestamp}.ply\", pcd)\n",
    "\n",
    "if __name__ == \"__main__\":\n",
    "    main()"
   ]
  },
  {
   "cell_type": "code",
   "execution_count": null,
   "metadata": {},
   "outputs": [],
   "source": []
  }
 ],
 "metadata": {
  "kernelspec": {
   "display_name": "base",
   "language": "python",
   "name": "python3"
  },
  "language_info": {
   "codemirror_mode": {
    "name": "ipython",
    "version": 3
   },
   "file_extension": ".py",
   "mimetype": "text/x-python",
   "name": "python",
   "nbconvert_exporter": "python",
   "pygments_lexer": "ipython3",
   "version": "3.12.3"
  }
 },
 "nbformat": 4,
 "nbformat_minor": 2
}
