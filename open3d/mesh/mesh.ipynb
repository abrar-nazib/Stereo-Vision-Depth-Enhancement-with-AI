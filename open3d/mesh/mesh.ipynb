{
 "cells": [
  {
   "cell_type": "markdown",
   "metadata": {},
   "source": [
    "# Mesh"
   ]
  },
  {
   "cell_type": "code",
   "execution_count": 9,
   "metadata": {},
   "outputs": [],
   "source": [
    "import open3d as o3d\n",
    "import matplotlib.pyplot as plt\n",
    "import numpy as np\n",
    "import cv2\n",
    "import copy"
   ]
  },
  {
   "cell_type": "markdown",
   "metadata": {},
   "source": [
    "## Reading Mesh Files"
   ]
  },
  {
   "cell_type": "code",
   "execution_count": 2,
   "metadata": {},
   "outputs": [
    {
     "name": "stdout",
     "output_type": "stream",
     "text": [
      "[Open3D INFO] Downloading https://github.com/isl-org/open3d_downloads/releases/download/20220201-data/ArmadilloMesh.ply\n",
      "[Open3D INFO] Downloaded to C:\\Users\\nazib/open3d_data/download/ArmadilloMesh/ArmadilloMesh.ply\n",
      "[Open3D INFO] Downloading https://github.com/isl-org/open3d_downloads/releases/download/20220201-data/KnotMesh.ply\n",
      "[Open3D INFO] Downloaded to C:\\Users\\nazib/open3d_data/download/KnotMesh/KnotMesh.ply\n",
      "TriangleMesh with 172974 points and 345944 triangles.\n",
      "TriangleMesh with 1440 points and 2880 triangles.\n",
      "Vertices:\n",
      "[[  5.8945775   11.78840065  27.28323936]\n",
      " [-53.32511139  67.10436249 -57.45013046]\n",
      " [  3.75048876  16.50540161  29.45401955]\n",
      " ...\n",
      " [ -0.53707075  -6.22242689  42.90413666]\n",
      " [-49.76054001 -52.08040619   1.24506998]\n",
      " [-57.97610855  62.83114624 -50.2011261 ]]\n",
      "Triangles:\n",
      "[[170671  67345  67377]\n",
      " [ 16306   9985   5355]\n",
      " [ 73048  97544  97343]\n",
      " ...\n",
      " [  2016   2011   1853]\n",
      " [  1854   2009   1692]\n",
      " [  1685   2009   2003]]\n"
     ]
    }
   ],
   "source": [
    "armadillo_mesh = o3d.data.ArmadilloMesh()\n",
    "armadillomesh = o3d.io.read_triangle_mesh(armadillo_mesh.path)\n",
    "\n",
    "knot_mesh = o3d.data.KnotMesh()\n",
    "knotmesh = o3d.io.read_triangle_mesh(knot_mesh.path)\n",
    "print(armadillomesh)\n",
    "print(knotmesh)\n",
    "print(\"Vertices:\")\n",
    "print(np.asarray(armadillomesh.vertices))\n",
    "print(\"Triangles:\")\n",
    "print(np.asarray(armadillomesh.triangles))"
   ]
  },
  {
   "cell_type": "markdown",
   "metadata": {},
   "source": [
    "### Visualize"
   ]
  },
  {
   "cell_type": "code",
   "execution_count": 4,
   "metadata": {},
   "outputs": [],
   "source": [
    "# o3d.visualization.draw_geometries([knotmesh])"
   ]
  },
  {
   "cell_type": "markdown",
   "metadata": {},
   "source": [
    "## Surface Normal Estimation"
   ]
  },
  {
   "cell_type": "code",
   "execution_count": 8,
   "metadata": {},
   "outputs": [],
   "source": [
    "knotmesh.compute_vertex_normals()\n",
    "knotmesh.paint_uniform_color([0.1, 0.1, 0.7]) # For coloring the mesh\n",
    "o3d.visualization.draw_geometries([knotmesh])"
   ]
  },
  {
   "cell_type": "markdown",
   "metadata": {},
   "source": [
    "## Cropping Mesh"
   ]
  },
  {
   "cell_type": "code",
   "execution_count": 10,
   "metadata": {},
   "outputs": [],
   "source": [
    "mesh1 = copy.deepcopy(knotmesh)\n",
    "mesh1.triangles = o3d.utility.Vector3iVector(np.asarray(mesh1.triangles)[:len(mesh1.triangles)//2, :]) # 3 element integer vector\n",
    "mesh1.triangle_normals = o3d.utility.Vector3dVector(np.asarray(mesh1.triangle_normals)[:len(mesh1.triangle_normals)//2, :]) # 3 element double vector\n",
    "\n",
    "o3d.visualization.draw_geometries([mesh1])"
   ]
  },
  {
   "cell_type": "code",
   "execution_count": null,
   "metadata": {},
   "outputs": [],
   "source": []
  }
 ],
 "metadata": {
  "kernelspec": {
   "display_name": "base",
   "language": "python",
   "name": "python3"
  },
  "language_info": {
   "codemirror_mode": {
    "name": "ipython",
    "version": 3
   },
   "file_extension": ".py",
   "mimetype": "text/x-python",
   "name": "python",
   "nbconvert_exporter": "python",
   "pygments_lexer": "ipython3",
   "version": "3.12.3"
  }
 },
 "nbformat": 4,
 "nbformat_minor": 2
}
