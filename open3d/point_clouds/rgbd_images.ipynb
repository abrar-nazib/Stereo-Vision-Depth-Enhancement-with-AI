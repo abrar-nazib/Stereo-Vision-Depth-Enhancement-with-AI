{
 "cells": [
  {
   "cell_type": "markdown",
   "metadata": {},
   "source": [
    "# RGBD Images"
   ]
  },
  {
   "cell_type": "code",
   "execution_count": 2,
   "metadata": {},
   "outputs": [
    {
     "name": "stdout",
     "output_type": "stream",
     "text": [
      "Jupyter environment detected. Enabling Open3D WebVisualizer.\n",
      "[Open3D INFO] WebRTC GUI backend enabled.\n",
      "[Open3D INFO] WebRTCWindowSystem: HTTP handshake server disabled.\n"
     ]
    }
   ],
   "source": [
    "import open3d as o3d\n",
    "import numpy as np\n",
    "import matplotlib.pyplot as plt\n",
    "import cv2\n"
   ]
  },
  {
   "cell_type": "markdown",
   "metadata": {},
   "source": [
    "## Redwood Dataset"
   ]
  },
  {
   "cell_type": "code",
   "execution_count": 3,
   "metadata": {},
   "outputs": [],
   "source": [
    "# redwood_rgbd = o3d.data.SampleRedwoodRGBDImages()\n",
    "# color_raw = o3d.io.read_image(redwood_rgbd.color_paths[0])\n",
    "# depth_raw = o3d.io.read_image(redwood_rgbd.depth_paths[0]) \n",
    "# rgbd_image = o3d.geometry.RGBDImage.create_from_color_and_depth(\n",
    "#     color_raw, depth_raw)"
   ]
  },
  {
   "cell_type": "code",
   "execution_count": 4,
   "metadata": {},
   "outputs": [],
   "source": [
    "# plt.subplot(1, 2, 1) # 1 row, 2 columns, 1st subplot = top left\n",
    "# plt.title('Redwood grayscale image')\n",
    "# plt.imshow(cv2.imread(redwood_rgbd.color_paths[0]))\n",
    "# plt.subplot(1, 2, 2) # 1 row, 2 columns, 2nd subplot = top right\n",
    "# plt.title('Redwood depth image')\n",
    "# plt.imshow(rgbd_image.depth)"
   ]
  },
  {
   "cell_type": "code",
   "execution_count": 5,
   "metadata": {},
   "outputs": [],
   "source": [
    "# pcd = o3d.geometry.PointCloud.create_from_rgbd_image(\n",
    "#     rgbd_image,\n",
    "#     o3d.camera.PinholeCameraIntrinsic(\n",
    "#         o3d.camera.PinholeCameraIntrinsicParameters.PrimeSenseDefault\n",
    "#         )\n",
    "#     )\n",
    "# pcd.transform([[1, 0, 0, 0], [0, -1, 0, 0], [0, 0, -1, 0], [0, 0, 0, 1]])\n",
    "# o3d.visualization.draw_geometries([pcd])"
   ]
  },
  {
   "cell_type": "code",
   "execution_count": 6,
   "metadata": {},
   "outputs": [],
   "source": [
    "# help(o3d.camera.PinholeCameraIntrinsicParameters)"
   ]
  },
  {
   "cell_type": "markdown",
   "metadata": {},
   "source": [
    "## SUN Dataset"
   ]
  },
  {
   "cell_type": "code",
   "execution_count": 7,
   "metadata": {},
   "outputs": [],
   "source": [
    "# sun_rgbd = o3d.data.SampleSUNRGBDImage()\n",
    "# sun_rgbd_color_raw = o3d.io.read_image(sun_rgbd.color_path)\n",
    "# sun_rgbd_depth_raw = o3d.io.read_image(sun_rgbd.depth_path)\n",
    "# sun_rgbd_rgbd_image = o3d.geometry.RGBDImage.create_from_sun_format(\n",
    "#     sun_rgbd_color_raw, sun_rgbd_depth_raw\n",
    "#     )"
   ]
  },
  {
   "cell_type": "code",
   "execution_count": 8,
   "metadata": {},
   "outputs": [],
   "source": [
    "# plt.subplot(1, 2,1)\n",
    "# plt.title('SUN grayscale image')\n",
    "# plt.imshow(cv2.imread(sun_rgbd.color_path))\n",
    "# plt.subplot(1, 2, 2)\n",
    "# plt.title('SUN depth image')\n",
    "# plt.imshow(sun_rgbd_rgbd_image.depth)\n"
   ]
  },
  {
   "cell_type": "code",
   "execution_count": 9,
   "metadata": {},
   "outputs": [],
   "source": [
    "# pcd = o3d.geometry.PointCloud.create_from_rgbd_image(\n",
    "#     sun_rgbd_rgbd_image,\n",
    "#     o3d.camera.PinholeCameraIntrinsic(\n",
    "#         o3d.camera.PinholeCameraIntrinsicParameters.PrimeSenseDefault\n",
    "#         )\n",
    "#     )\n",
    "\n",
    "# pcd.transform([[1, 0, 0, 0], [0, -1, 0, 0], [0, 0, -1, 0], [0, 0, 0, 1]])\n",
    "# o3d.visualization.draw_geometries([pcd])"
   ]
  },
  {
   "cell_type": "markdown",
   "metadata": {},
   "source": [
    "## TUM Dataset"
   ]
  },
  {
   "cell_type": "code",
   "execution_count": 10,
   "metadata": {},
   "outputs": [],
   "source": [
    "# print(\"Read TUM dataset\")\n",
    "# tum_rgbd = o3d.data.SampleSUNRGBDImage()\n",
    "# color_raw = o3d.io.read_image(tum_rgbd.color_path)\n",
    "# depth_raw = o3d.io.read_image(tum_rgbd.depth_path)\n",
    "# rgbd_image = o3d.geometry.RGBDImage.create_from_tum_format(color_raw, depth_raw)\n",
    "# print(rgbd_image)\n",
    "\n",
    "# plt.subplot(1, 2, 1)\n",
    "# plt.title('TUM grayscale image')\n",
    "# plt.imshow(rgbd_image.color)\n",
    "# plt.subplot(1, 2, 2)\n",
    "# plt.title('TUM depth image')\n",
    "# plt.imshow(rgbd_image.depth)\n",
    "# plt.show()"
   ]
  },
  {
   "cell_type": "markdown",
   "metadata": {},
   "source": [
    "## Custom depth map"
   ]
  },
  {
   "cell_type": "code",
   "execution_count": 11,
   "metadata": {},
   "outputs": [],
   "source": [
    "# # It's more or less redwood dataset\n",
    "# # color_raw = o3d.io.read_image(\"images/rgb.jpg\")\n",
    "# # color_raw = o3d.io.read_image(\"images/colorimg.jpg\")\n",
    "# color_raw = o3d.io.read_image(\"images/colorImg_upgraded.jpg\")\n",
    "# print(np.asarray(color_raw).shape)\n",
    "\n",
    "# # depth_raw = o3d.io.read_image(\"images/depth.png\")\n",
    "# # depth_raw = o3d.io.read_image(\"images/depthimg.png\")\n",
    "# depth_raw = o3d.io.read_image(\"images/depthImg_upgraded.png\")\n",
    "# print(np.asarray(depth_raw).shape)\n",
    "# rgbd_image = o3d.geometry.RGBDImage.create_from_color_and_depth(\n",
    "#     color_raw, depth_raw)"
   ]
  },
  {
   "cell_type": "code",
   "execution_count": 12,
   "metadata": {},
   "outputs": [],
   "source": [
    "# import cv2\n",
    "# img = cv2.imread('images/depth.png')\n",
    "# print(img)\n",
    "# print(max(np.asarray(img).flatten()))"
   ]
  },
  {
   "cell_type": "code",
   "execution_count": 13,
   "metadata": {},
   "outputs": [],
   "source": [
    "# plt.subplot(1, 2, 1)\n",
    "# plt.title('Custom grayscale image')\n",
    "# plt.imshow(rgbd_image.color)\n",
    "# plt.subplot(1, 2, 2)\n",
    "# plt.title('Custom depth image')\n",
    "# plt.imshow(rgbd_image.depth)\n",
    "# plt.show()\n",
    "# print(np.asarray(rgbd_image.depth))\n",
    "# print(max(np.asarray(rgbd_image.depth).flatten()))\n",
    "# print(min(np.asarray(rgbd_image.depth).flatten()))"
   ]
  },
  {
   "cell_type": "code",
   "execution_count": 14,
   "metadata": {},
   "outputs": [],
   "source": [
    "# intrinsic = o3d.camera.PinholeCameraIntrinsic(\n",
    "#     width=640, height=480, fx=591.16441613, fy=592.31094678, cx=318.47505605, cy=240.89420781\n",
    "# )\n",
    "\n",
    "# pcd = o3d.geometry.PointCloud.create_from_rgbd_image(\n",
    "#     rgbd_image,\n",
    "#     intrinsic\n",
    "# )\n",
    "# pcd.transform([[1, 0, 0, 0], [0, -1, 0, 0], [0, 0, -1, 0], [0, 0, 0, 1]])\n",
    "\n",
    "# o3d.visualization.draw_geometries([pcd])"
   ]
  },
  {
   "cell_type": "code",
   "execution_count": 15,
   "metadata": {},
   "outputs": [],
   "source": [
    "# def display_inlier_outlier(cloud, ind):\n",
    "#     inlier_cloud = cloud.select_by_index(ind)\n",
    "#     outlier_cloud = cloud.select_by_index(ind, invert=True)\n",
    "\n",
    "#     print(\"Showing outliers (red) and inliers (gray): \")\n",
    "#     outlier_cloud.paint_uniform_color([1, 0, 0])\n",
    "#     # inlier_cloud.paint_uniform_color([0.8, 0.8, 0.8])\n",
    "#     o3d.visualization.draw_geometries([inlier_cloud])\n",
    "#     return inlier_cloud"
   ]
  },
  {
   "cell_type": "code",
   "execution_count": 16,
   "metadata": {},
   "outputs": [],
   "source": [
    "# cl, ind = pcd.remove_statistical_outlier(nb_neighbors=100,\n",
    "#                                                     std_ratio=0.4)\n",
    "# # cl, ind = voxel_transformed_pcd.remove_radius_outlier(nb_points=16, radius=0.05)\n",
    "# inlier_cloud = display_inlier_outlier(pcd, ind)"
   ]
  },
  {
   "cell_type": "code",
   "execution_count": 17,
   "metadata": {},
   "outputs": [],
   "source": [
    "\n",
    "# pcd.normals = o3d.utility.Vector3dVector(np.zeros((1, 3)))  # invalidate existing normals\n",
    "# pcd.estimate_normals()\n",
    "# o3d.visualization.draw_geometries([pcd], point_show_normal=True)\n",
    "\n"
   ]
  },
  {
   "cell_type": "code",
   "execution_count": 18,
   "metadata": {},
   "outputs": [],
   "source": [
    "# downsampled_pcd = pcd.voxel_down_sample(voxel_size=0.0018)\n",
    "# o3d.visualization.draw_geometries([downsampled_pcd])\n"
   ]
  },
  {
   "cell_type": "code",
   "execution_count": 19,
   "metadata": {},
   "outputs": [],
   "source": [
    "# radii = [0.005, 0.01, 0.02, 0.04, 0.07]\n",
    "# rec_mesh = o3d.geometry.TriangleMesh.create_from_point_cloud_ball_pivoting(\n",
    "#     downsampled_pcd, o3d.utility.DoubleVector(radii))\n",
    "# o3d.visualization.draw_geometries([downsampled_pcd, rec_mesh])"
   ]
  },
  {
   "cell_type": "code",
   "execution_count": 20,
   "metadata": {},
   "outputs": [],
   "source": [
    "# alpha = 0.005\n",
    "# mesh = o3d.geometry.TriangleMesh.create_from_point_cloud_alpha_shape(pcd, alpha)\n",
    "# mesh.compute_vertex_normals()\n",
    "# o3d.visualization.draw_geometries([mesh])"
   ]
  },
  {
   "cell_type": "markdown",
   "metadata": {},
   "source": [
    "## Poisson surface reconstruction"
   ]
  },
  {
   "cell_type": "code",
   "execution_count": null,
   "metadata": {},
   "outputs": [],
   "source": []
  },
  {
   "cell_type": "code",
   "execution_count": 21,
   "metadata": {},
   "outputs": [],
   "source": [
    "# inlier_cloud.estimate_normals()\n",
    "# with o3d.utility.VerbosityContextManager(o3d.utility.VerbosityLevel.Debug) as cm:\n",
    "#     mesh, densities = o3d.geometry.TriangleMesh.create_from_point_cloud_poisson(inlier_cloud, depth=8)\n",
    "    \n",
    "# o3d.visualization.draw_geometries([mesh], point_show_normal=True)"
   ]
  },
  {
   "cell_type": "code",
   "execution_count": 22,
   "metadata": {},
   "outputs": [],
   "source": [
    "# plane_model, inliers = inlier_cloud.segment_plane(distance_threshold=0.03, ransac_n=25, num_iterations=2000)\n",
    "# [a, b, c, d] = plane_model\n",
    "# inlier_pcd = inlier_cloud.select_by_index(inliers)\n",
    "# outlier_pcd = inlier_cloud.select_by_index(inliers, invert=True)\n",
    "# outlier_pcd.paint_uniform_color([1, 0, 0])\n",
    "# o3d.visualization.draw_geometries([inlier_pcd, outlier_pcd])"
   ]
  },
  {
   "cell_type": "code",
   "execution_count": 23,
   "metadata": {},
   "outputs": [],
   "source": [
    "# help(inlier_cloud.segment_plane)"
   ]
  },
  {
   "cell_type": "code",
   "execution_count": 24,
   "metadata": {},
   "outputs": [],
   "source": [
    "# Load camera intrinsic parameters\n",
    "def load_camera_intrinsics(stereomap_file):\n",
    "    cv_file = cv2.FileStorage(stereomap_file, cv2.FILE_STORAGE_READ)\n",
    "\n",
    "    # Get camera matrix from stereoMap.xml\n",
    "    camera_matrix = cv_file.getNode(\"cameraMatrixL\").mat()\n",
    "\n",
    "    # Extract intrinsic parameters\n",
    "    fx = camera_matrix[0, 0]\n",
    "    fy = camera_matrix[1, 1]\n",
    "    cx = camera_matrix[0, 2]\n",
    "    cy = camera_matrix[1, 2]\n",
    "\n",
    "    cv_file.release()\n",
    "    return fx, fy, cx, cy\n",
    "\n",
    "# Load camera intrinsic parameters\n",
    "stereomap_file = \"stereoMap.xml\"\n",
    "fx, fy, cx, cy = load_camera_intrinsics(stereomap_file)"
   ]
  },
  {
   "cell_type": "code",
   "execution_count": 34,
   "metadata": {},
   "outputs": [
    {
     "name": "stdout",
     "output_type": "stream",
     "text": [
      "[Open3D WARNING] GLFW Error: WGL: Failed to make context current: The handle is invalid. \n"
     ]
    }
   ],
   "source": [
    "# Depth Map from Midas\n",
    "color_raw_midas = o3d.io.read_image(\"images/colorImg_upgraded.jpg\")\n",
    "depth_raw_midas = o3d.io.read_image(\"images/depthImg_upgraded.png\")\n",
    "rgbd_midas = o3d.geometry.RGBDImage.create_from_color_and_depth(\n",
    "    color_raw_midas, depth_raw_midas, depth_scale=100.0, depth_trunc=0.01)\n",
    "intrinsic = o3d.camera.PinholeCameraIntrinsic(\n",
    "    width=640, height=480, fx=fx, fy=fy, cx=cx, cy=cy\n",
    ")\n",
    "\n",
    "pcd_midas = o3d.geometry.PointCloud.create_from_rgbd_image(\n",
    "    rgbd_midas,\n",
    "    intrinsic\n",
    ")\n",
    "\n",
    "# pcd_midas.transform([[1, 0, 0, 0], [0, -1, 0, 0], [0, 0, -1, 0], [0, 0, 0, 1]])\n",
    "\n",
    "# Show the point cloud\n",
    "o3d.visualization.draw_geometries([pcd_midas])\n"
   ]
  },
  {
   "cell_type": "code",
   "execution_count": 36,
   "metadata": {},
   "outputs": [],
   "source": [
    "# Point cloud file visualization\n",
    "pcd = o3d.io.read_point_cloud(\"images/rgbd.pcd\")\n",
    "o3d.visualization.draw_geometries([pcd])"
   ]
  },
  {
   "cell_type": "code",
   "execution_count": null,
   "metadata": {},
   "outputs": [],
   "source": []
  }
 ],
 "metadata": {
  "kernelspec": {
   "display_name": "base",
   "language": "python",
   "name": "python3"
  },
  "language_info": {
   "codemirror_mode": {
    "name": "ipython",
    "version": 3
   },
   "file_extension": ".py",
   "mimetype": "text/x-python",
   "name": "python",
   "nbconvert_exporter": "python",
   "pygments_lexer": "ipython3",
   "version": "3.12.3"
  }
 },
 "nbformat": 4,
 "nbformat_minor": 2
}
