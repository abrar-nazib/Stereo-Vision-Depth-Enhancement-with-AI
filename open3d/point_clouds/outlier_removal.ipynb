{
 "cells": [
  {
   "cell_type": "markdown",
   "metadata": {},
   "source": [
    "# Outlier Removal"
   ]
  },
  {
   "cell_type": "code",
   "execution_count": 1,
   "metadata": {},
   "outputs": [
    {
     "name": "stdout",
     "output_type": "stream",
     "text": [
      "Jupyter environment detected. Enabling Open3D WebVisualizer.\n",
      "[Open3D INFO] WebRTC GUI backend enabled.\n",
      "[Open3D INFO] WebRTCWindowSystem: HTTP handshake server disabled.\n"
     ]
    }
   ],
   "source": [
    "import open3d as o3d\n",
    "import matplotlib.pyplot as plt\n",
    "import numpy as np\n",
    "import cv2\n",
    "import copy"
   ]
  },
  {
   "cell_type": "code",
   "execution_count": 3,
   "metadata": {},
   "outputs": [],
   "source": [
    "sample_pcd_data=o3d.data.PCDPointCloud()\n",
    "pcd = o3d.io.read_point_cloud(sample_pcd_data.path)\n",
    "o3d.visualization.draw_geometries([pcd],\n",
    "                                  zoom=0.35,\n",
    "                                  front = [0.4257, -0.2125, -0.8795],\n",
    "                                  lookat = [2.6172, 2.0475, 1.532],\n",
    "                                    up = [0.0694, -0.9705, 0.2303]\n",
    "                                  )"
   ]
  },
  {
   "cell_type": "code",
   "execution_count": 8,
   "metadata": {},
   "outputs": [],
   "source": [
    "voxel_down_pcd = pcd.voxel_down_sample(voxel_size=0.01)\n",
    "o3d.visualization.draw_geometries([voxel_down_pcd],\n",
    "                                  zoom=0.35,\n",
    "                                  front = [0.4257, -0.2125, -0.8795],\n",
    "                                  lookat = [2.6172, 2.0475, 1.532],\n",
    "                                  up = [0.0694, -0.9705, 0.2303]\n",
    "                                  )"
   ]
  },
  {
   "cell_type": "code",
   "execution_count": 6,
   "metadata": {},
   "outputs": [],
   "source": [
    "uni_down_pdc = pcd.uniform_down_sample(every_k_points=5)\n",
    "o3d.visualization.draw_geometries([uni_down_pdc],\n",
    "                                  zoom=0.35,\n",
    "                                  front = [0.4257, -0.2125, -0.8795],\n",
    "                                  lookat = [2.6172, 2.0475, 1.532],\n",
    "                                  up = [0.0694, -0.9705, 0.2303]\n",
    "                                  )"
   ]
  },
  {
   "cell_type": "code",
   "execution_count": null,
   "metadata": {},
   "outputs": [],
   "source": []
  }
 ],
 "metadata": {
  "kernelspec": {
   "display_name": "base",
   "language": "python",
   "name": "python3"
  },
  "language_info": {
   "codemirror_mode": {
    "name": "ipython",
    "version": 3
   },
   "file_extension": ".py",
   "mimetype": "text/x-python",
   "name": "python",
   "nbconvert_exporter": "python",
   "pygments_lexer": "ipython3",
   "version": "3.12.3"
  }
 },
 "nbformat": 4,
 "nbformat_minor": 2
}
