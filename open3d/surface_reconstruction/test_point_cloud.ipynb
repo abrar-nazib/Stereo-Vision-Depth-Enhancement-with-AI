{
 "cells": [
  {
   "cell_type": "markdown",
   "metadata": {},
   "source": [
    "# Testing different surface reconstruction mechanisms"
   ]
  },
  {
   "cell_type": "code",
   "execution_count": 2,
   "metadata": {},
   "outputs": [
    {
     "name": "stdout",
     "output_type": "stream",
     "text": [
      "Jupyter environment detected. Enabling Open3D WebVisualizer.\n",
      "[Open3D INFO] WebRTC GUI backend enabled.\n",
      "[Open3D INFO] WebRTCWindowSystem: HTTP handshake server disabled.\n"
     ]
    }
   ],
   "source": [
    "import open3d as o3d\n",
    "import numpy as np\n",
    "import copy\n",
    "import os\n",
    "import matplotlib.pyplot as plt"
   ]
  },
  {
   "cell_type": "code",
   "execution_count": 3,
   "metadata": {},
   "outputs": [
    {
     "name": "stdout",
     "output_type": "stream",
     "text": [
      "[Open3D WARNING] GLFW Error: WGL: Failed to make context current: The handle is invalid. \n",
      "[Open3D WARNING] GLFW Error: WGL: Failed to make context current: The requested transformation operation is not supported. \n",
      "[Open3D WARNING] GLFW Error: WGL: Failed to make context current: The requested transformation operation is not supported. \n",
      "[Open3D WARNING] GLFW Error: WGL: Failed to make context current: The requested transformation operation is not supported. \n",
      "[Open3D WARNING] GLFW Error: WGL: Failed to make context current: The requested transformation operation is not supported. \n"
     ]
    }
   ],
   "source": [
    "pcd = o3d.io.read_point_cloud(\"rgbd.pcd\")\n",
    "pcd.estimate_normals()\n",
    "o3d.visualization.draw_geometries([pcd])"
   ]
  },
  {
   "cell_type": "code",
   "execution_count": 4,
   "metadata": {},
   "outputs": [
    {
     "name": "stdout",
     "output_type": "stream",
     "text": [
      "[Open3D WARNING] [CreateFromPointCloudAlphaShape] invalid tetra in TetraMesh\n",
      "[Open3D WARNING] [CreateFromPointCloudAlphaShape] invalid tetra in TetraMesh\n",
      "[Open3D WARNING] [CreateFromPointCloudAlphaShape] invalid tetra in TetraMesh\n",
      "[Open3D WARNING] [CreateFromPointCloudAlphaShape] invalid tetra in TetraMesh\n",
      "[Open3D WARNING] [CreateFromPointCloudAlphaShape] invalid tetra in TetraMesh\n",
      "[Open3D WARNING] [CreateFromPointCloudAlphaShape] invalid tetra in TetraMesh\n",
      "[Open3D WARNING] [CreateFromPointCloudAlphaShape] invalid tetra in TetraMesh\n",
      "[Open3D WARNING] [CreateFromPointCloudAlphaShape] invalid tetra in TetraMesh\n",
      "[Open3D WARNING] [CreateFromPointCloudAlphaShape] invalid tetra in TetraMesh\n",
      "[Open3D WARNING] [CreateFromPointCloudAlphaShape] invalid tetra in TetraMesh\n",
      "[Open3D WARNING] [CreateFromPointCloudAlphaShape] invalid tetra in TetraMesh\n",
      "[Open3D WARNING] [CreateFromPointCloudAlphaShape] invalid tetra in TetraMesh\n",
      "[Open3D WARNING] [CreateFromPointCloudAlphaShape] invalid tetra in TetraMesh\n",
      "[Open3D WARNING] [CreateFromPointCloudAlphaShape] invalid tetra in TetraMesh\n",
      "[Open3D WARNING] [CreateFromPointCloudAlphaShape] invalid tetra in TetraMesh\n",
      "[Open3D WARNING] [CreateFromPointCloudAlphaShape] invalid tetra in TetraMesh\n",
      "[Open3D WARNING] [CreateFromPointCloudAlphaShape] invalid tetra in TetraMesh\n",
      "[Open3D WARNING] [CreateFromPointCloudAlphaShape] invalid tetra in TetraMesh\n",
      "[Open3D WARNING] [CreateFromPointCloudAlphaShape] invalid tetra in TetraMesh\n",
      "[Open3D WARNING] [CreateFromPointCloudAlphaShape] invalid tetra in TetraMesh\n",
      "[Open3D WARNING] [CreateFromPointCloudAlphaShape] invalid tetra in TetraMesh\n",
      "[Open3D WARNING] [CreateFromPointCloudAlphaShape] invalid tetra in TetraMesh\n",
      "[Open3D WARNING] [CreateFromPointCloudAlphaShape] invalid tetra in TetraMesh\n",
      "[Open3D WARNING] [CreateFromPointCloudAlphaShape] invalid tetra in TetraMesh\n",
      "[Open3D WARNING] [CreateFromPointCloudAlphaShape] invalid tetra in TetraMesh\n",
      "[Open3D WARNING] [CreateFromPointCloudAlphaShape] invalid tetra in TetraMesh\n",
      "[Open3D WARNING] [CreateFromPointCloudAlphaShape] invalid tetra in TetraMesh\n",
      "[Open3D WARNING] [CreateFromPointCloudAlphaShape] invalid tetra in TetraMesh\n",
      "[Open3D WARNING] [CreateFromPointCloudAlphaShape] invalid tetra in TetraMesh\n",
      "[Open3D WARNING] [CreateFromPointCloudAlphaShape] invalid tetra in TetraMesh\n",
      "[Open3D WARNING] [CreateFromPointCloudAlphaShape] invalid tetra in TetraMesh\n",
      "[Open3D WARNING] [CreateFromPointCloudAlphaShape] invalid tetra in TetraMesh\n",
      "[Open3D WARNING] [CreateFromPointCloudAlphaShape] invalid tetra in TetraMesh\n",
      "[Open3D WARNING] [CreateFromPointCloudAlphaShape] invalid tetra in TetraMesh\n",
      "[Open3D WARNING] [CreateFromPointCloudAlphaShape] invalid tetra in TetraMesh\n",
      "[Open3D WARNING] [CreateFromPointCloudAlphaShape] invalid tetra in TetraMesh\n",
      "[Open3D WARNING] [CreateFromPointCloudAlphaShape] invalid tetra in TetraMesh\n",
      "[Open3D WARNING] [CreateFromPointCloudAlphaShape] invalid tetra in TetraMesh\n",
      "[Open3D WARNING] [CreateFromPointCloudAlphaShape] invalid tetra in TetraMesh\n",
      "[Open3D WARNING] [CreateFromPointCloudAlphaShape] invalid tetra in TetraMesh\n",
      "[Open3D WARNING] [CreateFromPointCloudAlphaShape] invalid tetra in TetraMesh\n",
      "[Open3D WARNING] [CreateFromPointCloudAlphaShape] invalid tetra in TetraMesh\n",
      "[Open3D WARNING] [CreateFromPointCloudAlphaShape] invalid tetra in TetraMesh\n",
      "[Open3D WARNING] [CreateFromPointCloudAlphaShape] invalid tetra in TetraMesh\n",
      "[Open3D WARNING] [CreateFromPointCloudAlphaShape] invalid tetra in TetraMesh\n",
      "[Open3D WARNING] [CreateFromPointCloudAlphaShape] invalid tetra in TetraMesh\n",
      "[Open3D WARNING] [CreateFromPointCloudAlphaShape] invalid tetra in TetraMesh\n",
      "[Open3D WARNING] [CreateFromPointCloudAlphaShape] invalid tetra in TetraMesh\n",
      "[Open3D WARNING] [CreateFromPointCloudAlphaShape] invalid tetra in TetraMesh\n",
      "[Open3D WARNING] [CreateFromPointCloudAlphaShape] invalid tetra in TetraMesh\n",
      "[Open3D WARNING] [CreateFromPointCloudAlphaShape] invalid tetra in TetraMesh\n",
      "[Open3D WARNING] [CreateFromPointCloudAlphaShape] invalid tetra in TetraMesh\n",
      "[Open3D WARNING] [CreateFromPointCloudAlphaShape] invalid tetra in TetraMesh\n",
      "[Open3D WARNING] [CreateFromPointCloudAlphaShape] invalid tetra in TetraMesh\n",
      "[Open3D WARNING] [CreateFromPointCloudAlphaShape] invalid tetra in TetraMesh\n",
      "[Open3D WARNING] [CreateFromPointCloudAlphaShape] invalid tetra in TetraMesh\n",
      "[Open3D WARNING] [CreateFromPointCloudAlphaShape] invalid tetra in TetraMesh\n",
      "[Open3D WARNING] [CreateFromPointCloudAlphaShape] invalid tetra in TetraMesh\n",
      "[Open3D WARNING] [CreateFromPointCloudAlphaShape] invalid tetra in TetraMesh\n",
      "[Open3D WARNING] [CreateFromPointCloudAlphaShape] invalid tetra in TetraMesh\n",
      "[Open3D WARNING] [CreateFromPointCloudAlphaShape] invalid tetra in TetraMesh\n",
      "[Open3D WARNING] [CreateFromPointCloudAlphaShape] invalid tetra in TetraMesh\n",
      "[Open3D WARNING] [CreateFromPointCloudAlphaShape] invalid tetra in TetraMesh\n",
      "[Open3D WARNING] [CreateFromPointCloudAlphaShape] invalid tetra in TetraMesh\n",
      "[Open3D WARNING] [CreateFromPointCloudAlphaShape] invalid tetra in TetraMesh\n",
      "[Open3D WARNING] [CreateFromPointCloudAlphaShape] invalid tetra in TetraMesh\n",
      "[Open3D WARNING] [CreateFromPointCloudAlphaShape] invalid tetra in TetraMesh\n",
      "[Open3D WARNING] [CreateFromPointCloudAlphaShape] invalid tetra in TetraMesh\n",
      "[Open3D WARNING] [CreateFromPointCloudAlphaShape] invalid tetra in TetraMesh\n",
      "[Open3D WARNING] [CreateFromPointCloudAlphaShape] invalid tetra in TetraMesh\n",
      "[Open3D WARNING] [CreateFromPointCloudAlphaShape] invalid tetra in TetraMesh\n",
      "[Open3D WARNING] [CreateFromPointCloudAlphaShape] invalid tetra in TetraMesh\n",
      "[Open3D WARNING] [CreateFromPointCloudAlphaShape] invalid tetra in TetraMesh\n",
      "[Open3D WARNING] [CreateFromPointCloudAlphaShape] invalid tetra in TetraMesh\n",
      "[Open3D WARNING] [CreateFromPointCloudAlphaShape] invalid tetra in TetraMesh\n",
      "[Open3D WARNING] [CreateFromPointCloudAlphaShape] invalid tetra in TetraMesh\n",
      "[Open3D WARNING] [CreateFromPointCloudAlphaShape] invalid tetra in TetraMesh\n",
      "[Open3D WARNING] [CreateFromPointCloudAlphaShape] invalid tetra in TetraMesh\n",
      "[Open3D WARNING] [CreateFromPointCloudAlphaShape] invalid tetra in TetraMesh\n",
      "[Open3D WARNING] [CreateFromPointCloudAlphaShape] invalid tetra in TetraMesh\n",
      "[Open3D WARNING] [CreateFromPointCloudAlphaShape] invalid tetra in TetraMesh\n",
      "[Open3D WARNING] [CreateFromPointCloudAlphaShape] invalid tetra in TetraMesh\n",
      "[Open3D WARNING] [CreateFromPointCloudAlphaShape] invalid tetra in TetraMesh\n",
      "[Open3D WARNING] [CreateFromPointCloudAlphaShape] invalid tetra in TetraMesh\n",
      "[Open3D WARNING] [CreateFromPointCloudAlphaShape] invalid tetra in TetraMesh\n",
      "[Open3D WARNING] [CreateFromPointCloudAlphaShape] invalid tetra in TetraMesh\n",
      "[Open3D WARNING] [CreateFromPointCloudAlphaShape] invalid tetra in TetraMesh\n",
      "[Open3D WARNING] [CreateFromPointCloudAlphaShape] invalid tetra in TetraMesh\n",
      "[Open3D WARNING] [CreateFromPointCloudAlphaShape] invalid tetra in TetraMesh\n",
      "[Open3D WARNING] [CreateFromPointCloudAlphaShape] invalid tetra in TetraMesh\n",
      "[Open3D WARNING] [CreateFromPointCloudAlphaShape] invalid tetra in TetraMesh\n",
      "[Open3D WARNING] [CreateFromPointCloudAlphaShape] invalid tetra in TetraMesh\n",
      "[Open3D WARNING] [CreateFromPointCloudAlphaShape] invalid tetra in TetraMesh\n",
      "[Open3D WARNING] [CreateFromPointCloudAlphaShape] invalid tetra in TetraMesh\n",
      "[Open3D WARNING] [CreateFromPointCloudAlphaShape] invalid tetra in TetraMesh\n",
      "[Open3D WARNING] [CreateFromPointCloudAlphaShape] invalid tetra in TetraMesh\n",
      "[Open3D WARNING] [CreateFromPointCloudAlphaShape] invalid tetra in TetraMesh\n",
      "[Open3D WARNING] [CreateFromPointCloudAlphaShape] invalid tetra in TetraMesh\n",
      "[Open3D WARNING] [CreateFromPointCloudAlphaShape] invalid tetra in TetraMesh\n",
      "[Open3D WARNING] [CreateFromPointCloudAlphaShape] invalid tetra in TetraMesh\n",
      "[Open3D WARNING] [CreateFromPointCloudAlphaShape] invalid tetra in TetraMesh\n",
      "[Open3D WARNING] [CreateFromPointCloudAlphaShape] invalid tetra in TetraMesh\n",
      "[Open3D WARNING] [CreateFromPointCloudAlphaShape] invalid tetra in TetraMesh\n",
      "[Open3D WARNING] [CreateFromPointCloudAlphaShape] invalid tetra in TetraMesh\n",
      "[Open3D WARNING] [CreateFromPointCloudAlphaShape] invalid tetra in TetraMesh\n",
      "[Open3D WARNING] [CreateFromPointCloudAlphaShape] invalid tetra in TetraMesh\n",
      "[Open3D WARNING] [CreateFromPointCloudAlphaShape] invalid tetra in TetraMesh\n",
      "[Open3D WARNING] [CreateFromPointCloudAlphaShape] invalid tetra in TetraMesh\n",
      "[Open3D WARNING] [CreateFromPointCloudAlphaShape] invalid tetra in TetraMesh\n",
      "[Open3D WARNING] [CreateFromPointCloudAlphaShape] invalid tetra in TetraMesh\n",
      "[Open3D WARNING] [CreateFromPointCloudAlphaShape] invalid tetra in TetraMesh\n",
      "[Open3D WARNING] [CreateFromPointCloudAlphaShape] invalid tetra in TetraMesh\n",
      "[Open3D WARNING] [CreateFromPointCloudAlphaShape] invalid tetra in TetraMesh\n",
      "[Open3D WARNING] [CreateFromPointCloudAlphaShape] invalid tetra in TetraMesh\n",
      "[Open3D WARNING] [CreateFromPointCloudAlphaShape] invalid tetra in TetraMesh\n",
      "[Open3D WARNING] [CreateFromPointCloudAlphaShape] invalid tetra in TetraMesh\n",
      "[Open3D WARNING] [CreateFromPointCloudAlphaShape] invalid tetra in TetraMesh\n",
      "[Open3D WARNING] [CreateFromPointCloudAlphaShape] invalid tetra in TetraMesh\n",
      "[Open3D WARNING] [CreateFromPointCloudAlphaShape] invalid tetra in TetraMesh\n",
      "[Open3D WARNING] [CreateFromPointCloudAlphaShape] invalid tetra in TetraMesh\n",
      "[Open3D WARNING] [CreateFromPointCloudAlphaShape] invalid tetra in TetraMesh\n",
      "[Open3D WARNING] [CreateFromPointCloudAlphaShape] invalid tetra in TetraMesh\n",
      "[Open3D WARNING] [CreateFromPointCloudAlphaShape] invalid tetra in TetraMesh\n",
      "[Open3D WARNING] [CreateFromPointCloudAlphaShape] invalid tetra in TetraMesh\n",
      "[Open3D WARNING] [CreateFromPointCloudAlphaShape] invalid tetra in TetraMesh\n",
      "[Open3D WARNING] [CreateFromPointCloudAlphaShape] invalid tetra in TetraMesh\n",
      "[Open3D WARNING] [CreateFromPointCloudAlphaShape] invalid tetra in TetraMesh\n",
      "[Open3D WARNING] [CreateFromPointCloudAlphaShape] invalid tetra in TetraMesh\n",
      "[Open3D WARNING] [CreateFromPointCloudAlphaShape] invalid tetra in TetraMesh\n",
      "[Open3D WARNING] [CreateFromPointCloudAlphaShape] invalid tetra in TetraMesh\n",
      "[Open3D WARNING] [CreateFromPointCloudAlphaShape] invalid tetra in TetraMesh\n",
      "[Open3D WARNING] [CreateFromPointCloudAlphaShape] invalid tetra in TetraMesh\n",
      "[Open3D WARNING] [CreateFromPointCloudAlphaShape] invalid tetra in TetraMesh\n",
      "[Open3D WARNING] [CreateFromPointCloudAlphaShape] invalid tetra in TetraMesh\n",
      "[Open3D WARNING] [CreateFromPointCloudAlphaShape] invalid tetra in TetraMesh\n",
      "[Open3D WARNING] [CreateFromPointCloudAlphaShape] invalid tetra in TetraMesh\n",
      "[Open3D WARNING] [CreateFromPointCloudAlphaShape] invalid tetra in TetraMesh\n",
      "[Open3D WARNING] [CreateFromPointCloudAlphaShape] invalid tetra in TetraMesh\n",
      "[Open3D WARNING] [CreateFromPointCloudAlphaShape] invalid tetra in TetraMesh\n",
      "[Open3D WARNING] [CreateFromPointCloudAlphaShape] invalid tetra in TetraMesh\n",
      "[Open3D WARNING] [CreateFromPointCloudAlphaShape] invalid tetra in TetraMesh\n",
      "[Open3D WARNING] [CreateFromPointCloudAlphaShape] invalid tetra in TetraMesh\n",
      "[Open3D WARNING] [CreateFromPointCloudAlphaShape] invalid tetra in TetraMesh\n",
      "[Open3D WARNING] [CreateFromPointCloudAlphaShape] invalid tetra in TetraMesh\n",
      "[Open3D WARNING] [CreateFromPointCloudAlphaShape] invalid tetra in TetraMesh\n",
      "[Open3D WARNING] [CreateFromPointCloudAlphaShape] invalid tetra in TetraMesh\n",
      "[Open3D WARNING] [CreateFromPointCloudAlphaShape] invalid tetra in TetraMesh\n",
      "[Open3D WARNING] [CreateFromPointCloudAlphaShape] invalid tetra in TetraMesh\n",
      "[Open3D WARNING] GLFW Error: WGL: Failed to make context current: The requested transformation operation is not supported. \n"
     ]
    }
   ],
   "source": [
    "alpha = 2.2\n",
    "mesh = o3d.geometry.TriangleMesh.create_from_point_cloud_alpha_shape(pcd, alpha)\n",
    "mesh.compute_vertex_normals()\n",
    "o3d.visualization.draw_geometries([mesh, pcd])"
   ]
  },
  {
   "cell_type": "code",
   "execution_count": 5,
   "metadata": {},
   "outputs": [
    {
     "name": "stdout",
     "output_type": "stream",
     "text": [
      "[Open3D DEBUG] Input Points / Samples: 76115 / 66418\n",
      "[Open3D DEBUG] #   Got kernel density: 1.5230000019073486 (s), 1076.75390625 (MB) / 1076.75390625 (MB) / 1076 (MB)\n",
      "[Open3D DEBUG] #     Got normal field: 0.5869998931884766 (s), 1417.453125 (MB) / 1417.453125 (MB) / 1417 (MB)\n",
      "[Open3D DEBUG] Point weight / Estimated Area: 1.854573e-05 / 1.411608e+00\n",
      "[Open3D DEBUG] #       Finalized tree: 1.7209999561309814 (s), 1432.09375 (MB) / 1432.09375 (MB) / 1783 (MB)\n",
      "[Open3D DEBUG] #  Set FEM constraints: 0.6730000972747803 (s), 1094.20703125 (MB) / 1432.09375 (MB) / 1783 (MB)\n",
      "[Open3D DEBUG] #Set point constraints: 0.2839999198913574 (s), 1084.02734375 (MB) / 1432.09375 (MB) / 1783 (MB)\n",
      "[Open3D DEBUG] Leaf Nodes / Active Nodes / Ghost Nodes: 12418036 / 972888 / 13219153\n",
      "[Open3D DEBUG] Memory Usage: 1084.027 MB\n",
      "[Open3D DEBUG] # Linear system solved: 2.554999828338623 (s), 1093.0078125 (MB) / 1432.09375 (MB) / 1783 (MB)\n",
      "[Open3D DEBUG] Got average: 0.031999826431274414 (s), 1019.51953125 (MB) / 1432.09375 (MB) / 1783 (MB)\n",
      "[Open3D DEBUG] Iso-Value: 5.001693e-01 = 3.807039e+04 / 7.611500e+04\n",
      "[Open3D DEBUG] #          Total Solve:      11.5 (s),    1432.1 (MB)\n",
      "[Open3D WARNING] GLFW Error: WGL: Failed to make context current: The requested transformation operation is not supported. \n",
      "[Open3D WARNING] GLFW Error: WGL: Failed to make context current: The requested transformation operation is not supported. \n",
      "[Open3D WARNING] GLFW Error: WGL: Failed to make context current: The requested transformation operation is not supported. \n",
      "[Open3D WARNING] GLFW Error: WGL: Failed to make context current: The handle is invalid. \n",
      "[Open3D WARNING] GLFW Error: WGL: Failed to make context current: The requested transformation operation is not supported. \n"
     ]
    }
   ],
   "source": [
    "with o3d.utility.VerbosityContextManager(o3d.utility.VerbosityLevel.Debug) as cm:\n",
    "    mesh, densities = o3d.geometry.TriangleMesh.create_from_point_cloud_poisson(pcd, depth=14)\n",
    "o3d.visualization.draw_geometries([mesh, pcd])"
   ]
  },
  {
   "cell_type": "code",
   "execution_count": null,
   "metadata": {},
   "outputs": [],
   "source": []
  }
 ],
 "metadata": {
  "kernelspec": {
   "display_name": "base",
   "language": "python",
   "name": "python3"
  },
  "language_info": {
   "codemirror_mode": {
    "name": "ipython",
    "version": 3
   },
   "file_extension": ".py",
   "mimetype": "text/x-python",
   "name": "python",
   "nbconvert_exporter": "python",
   "pygments_lexer": "ipython3",
   "version": "3.12.3"
  }
 },
 "nbformat": 4,
 "nbformat_minor": 2
}
